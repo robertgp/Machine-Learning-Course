{
 "cells": [
  {
   "cell_type": "markdown",
   "metadata": {},
   "source": [
    "**EC 414 - Spring 2019**\n",
    "\n",
    "**HW 4 - QDA/LDA & Logistic Regression 1**\n",
    "\n",
    "Due:  Wednesday Feb 27 (In class)"
   ]
  },
  {
   "cell_type": "markdown",
   "metadata": {},
   "source": [
    "**1) Obtaining QDA & LDA Decision Rules: **\n",
    "\n",
    "In this problem, we will consider Quadratic and Linear Discriminant Analysis for $m$ classes where $y \\in \\{1,...,m \\}$ represents a class index. In class, we looked at the simple 2-class LDA. Using the MPE (Most Probable Explanation) rule: \n",
    "\n",
    "$h_{MPE} (\\boldsymbol{x})= \\text{argmax}_{y} p(y|\\boldsymbol{x},\\theta)$, \n",
    "\n",
    "obtain the QDA & LDA decision rules: \n",
    "\n",
    "$h_{QDA} (\\boldsymbol{x}) = \\text{argmin}_y [\\frac{1}{2} (\\boldsymbol{x}-\\boldsymbol{\\mu}_y)^T \\Sigma_y^{-1} (\\boldsymbol{x}-\\boldsymbol{\\mu}_y) + \\frac{1}{2} \\text{log} (\\text{det}(\\Sigma_y)) - \\text{log} (p(y))]$,\n",
    "\n",
    "$h_{LDA} (\\boldsymbol{x}) = \\text{argmax}_y [(\\boldsymbol{\\mu}_y^T \\Sigma^{-1} ) \\cdot \\boldsymbol{x} - \\frac{1}{2} \\boldsymbol{\\mu}_y^T \\Sigma^{-1} \\boldsymbol{\\mu}_y + \\text{log}(p(y))]$.\n",
    "\n",
    "Please show all intermediate steps in your analysis. As a tip, it may be expedient to use Bayes Rule in your analysis along with the fact that, for QDA:\n",
    "\n",
    "$p(\\boldsymbol{x}|y,\\theta) = N(\\boldsymbol{\\mu}_y,\\Sigma_y)(\\boldsymbol{x}) = \\frac{1}{((2 \\pi)^d \\text{ det}(\\Sigma_y))^{1/2}} e^{- \\frac{1}{2} (\\boldsymbol{x}-\\boldsymbol{\\mu}_y)^T \\Sigma_y^{-1} (\\boldsymbol{x}-\\boldsymbol{\\mu}_y)}$, \n",
    "\n",
    "and for LDA:\n",
    "\n",
    "$ \\Sigma_y = \\Sigma \\text{ } \\forall \\text{ } y \\in \\{1,...,m \\}$.\n",
    "\n",
    "Also, assume that $\\Sigma$ is symmetric; this allows us to see that: $\\boldsymbol{\\mu}_y^T \\Sigma^{-1} \\boldsymbol{x} = \\boldsymbol{x}^T \\Sigma^{-1} \\boldsymbol{\\mu}_y$ (this is useful in going from the QDA decision rule to the LDA decision rule).\n",
    "\n"
   ]
  },
  {
   "cell_type": "markdown",
   "metadata": {},
   "source": [
    "**2) Implementation of LDA**\n",
    "\n",
    "In this problem, we will explore the implementation and application of LDA on an artificial dataset. Using any built in Python command/function for LDA in this problem is prohibited.  "
   ]
  },
  {
   "cell_type": "markdown",
   "metadata": {},
   "source": [
    "a) Generate $3$ $2$D Gaussian clusters of data with the following means and covariances:\n",
    "\n",
    "$\\boldsymbol{\\mu}_1 = [2,2]^T, \\boldsymbol{\\mu}_2 = [-7,-7]^T, \\boldsymbol{\\mu}_3 = [-8,-1]^T$,\n",
    "\n",
    "$\\Sigma = [[0.5,0];[0,0.5]]$.\n",
    "\n",
    "Let each cluster of data have $500$ points. Plot the generated Gaussian data."
   ]
  },
  {
   "cell_type": "code",
   "execution_count": 349,
   "metadata": {},
   "outputs": [
    {
     "data": {
      "text/plain": [
       "<function matplotlib.pyplot.show>"
      ]
     },
     "execution_count": 349,
     "metadata": {},
     "output_type": "execute_result"
    },
    {
     "data": {
      "image/png": "[encoded data removed]",
      "text/plain": [
       "<matplotlib.figure.Figure at 0x1a1ebb0cf8>"
      ]
     },
     "metadata": {},
     "output_type": "display_data"
    }
   ],
   "source": [
    "# Write code here:\n",
    "import numpy as np\n",
    "import matplotlib.pyplot as plt\n",
    "\n",
    "m1 = [2,2]\n",
    "m2 = [-7,-7]\n",
    "m3 = [-8,-1]\n",
    "cov = [[0.5, 0], [0, 0.5]]\n",
    "\n",
    "x1, y1 = np.random.multivariate_normal(m1, cov, 500).T\n",
    "x2, y2 = np.random.multivariate_normal(m2, cov, 500).T\n",
    "x3, y3 = np.random.multivariate_normal(m3, cov, 500).T\n",
    "\n",
    "plt.plot(x1, y1, 'x', color='blue')\n",
    "plt.plot(x2, y2, 'x', color='green')\n",
    "plt.plot(x3, y3, 'x', color='red')\n",
    "plt.grid(axis='both')\n",
    "plt.show\n"
   ]
  },
  {
   "cell_type": "markdown",
   "metadata": {},
   "source": [
    "b) Randomly split all the data and labels into training and testing sets using an $85\\%$/$15\\%$  train/test split. "
   ]
  },
  {
   "cell_type": "code",
   "execution_count": 350,
   "metadata": {},
   "outputs": [],
   "source": [
    "# Write code here:\n",
    "from sklearn.model_selection import train_test_split\n",
    "\n",
    "# make x from x1, x2, x3\n",
    "x1_2 = np.append(x1, x2)\n",
    "x = np.append(x1_2, x3)\n",
    "# make y from y1, y2, y3\n",
    "y1_2 = np.append(y1,y2)\n",
    "y = np.append(y1_2,y3)\n",
    "\n",
    "label_1 = np.ones(500)\n",
    "label_2 = np.ones(500) + 1\n",
    "label_3 = np.ones(500) + 2\n",
    "label_1_2 = np.append(label_1, label_2)\n",
    "y_label = np.append(label_1_2, label_3)\n",
    "\n",
    "x1_train, x1_test, x2_train, x2_test, y_train, y_test = train_test_split(x, y, y_label, test_size=0.15)\n"
   ]
  },
  {
   "cell_type": "markdown",
   "metadata": {},
   "source": [
    "c) Obtain the necessary parameter values for ($\\widehat{\\boldsymbol{\\mu}}_y \\text{ } \\forall \\text{ } y$,$\\widehat{\\Sigma}$,$\\widehat{p}(y)$) used for obtaining the LDA decision rule derived in Q$1$.  As a reminder, the preceding values can be obtained as:\n",
    "\n",
    "$\\widehat{p}(y) = \\frac{n_y}{n}$,\n",
    "\n",
    "$\\widehat{\\boldsymbol{\\mu}}_y = \\frac{1}{n_y} \\sum_{i \\in \\{ 1,...,n\\}: y = y_i} \\boldsymbol{x}_i$,\n",
    "\n",
    "$\\widehat{\\Sigma} = \\frac{1}{n} \\sum_{i=1}^n (\\boldsymbol{x}_i-\\widehat{\\boldsymbol{\\mu}}_{y_i})(\\boldsymbol{x}_i-\\widehat{\\boldsymbol{\\mu}}_{y_i})^T$,\n",
    "\n",
    "where $n$ is the number of training data points and $n_y$ is the number of occurrences of class $y$ in the training set. \n",
    "\n",
    "Please display the resulting values of the preceding variables using print statements.  "
   ]
  },
  {
   "cell_type": "code",
   "execution_count": 351,
   "metadata": {
    "scrolled": true
   },
   "outputs": [
    {
     "name": "stdout",
     "output_type": "stream",
     "text": [
      "p: \n",
      " [0.3325490196078431, 0.3388235294117647, 0.32862745098039214]\n",
      "Empirical means: \n",
      " [[ 2.02791294  2.04928059]\n",
      " [-7.04567236 -6.93187941]\n",
      " [-7.97338016 -0.97988658]]\n",
      "Covariance matrix: \n",
      " [[0.47793115 0.02331351]\n",
      " [0.02331351 0.49574319]]\n"
     ]
    }
   ],
   "source": [
    "# Write code here:\n",
    "\n",
    "# p\n",
    "# find out how many times a class occurs in the training set\n",
    "n = x1_train.size\n",
    "ny1=ny2=ny3=y_index=0 \n",
    "i1, i2, i3 = [], [], [] \n",
    "\n",
    "#store y-indices where there are points of each class\n",
    "for i in y_train:\n",
    "    if i == 1:\n",
    "        ny1+=1\n",
    "        i1.append(y_index)\n",
    "    elif i == 2:\n",
    "        ny2+=1\n",
    "        i2.append(y_index)\n",
    "    elif i == 3:\n",
    "        ny3+=1\n",
    "        i3.append(y_index)\n",
    "    y_index+=1\n",
    "    \n",
    "p = [ny1/n, ny2/n, ny3/n]\n",
    "print('p: \\n', p)\n",
    "\n",
    "# mu\n",
    "# Get the correct xi's from x1_train and x2_train according to their classes\n",
    "x1_1 = [x1_train[i] for i in i1]\n",
    "x1_2 = [x1_train[i] for i in i2]\n",
    "x1_3 = [x1_train[i] for i in i3]\n",
    "x2_1 = [x2_train[i] for i in i1]\n",
    "x2_2 = [x2_train[i] for i in i2]\n",
    "x2_3 = [x2_train[i] for i in i3]\n",
    "\n",
    "# mupoint_class = summation/nyi\n",
    "mu1_1 = sum(x1_1)/ny1\n",
    "mu1_2 = sum(x1_2)/ny2\n",
    "mu1_3 = sum(x1_3)/ny3\n",
    "mu2_1 = sum(x2_1)/ny1\n",
    "mu2_2 = sum(x2_2)/ny2\n",
    "mu2_3 = sum(x2_3)/ny3\n",
    "mu1 = np.ones([1,2])\n",
    "mu1[0,0] = mu1_1\n",
    "mu1[0,1] = mu2_1\n",
    "mu2 = np.ones([1,2])\n",
    "mu2[0,0] = mu1_2\n",
    "mu2[0,1] = mu2_2\n",
    "mu3 = np.ones([1,2])\n",
    "mu3[0,0] = mu1_3\n",
    "mu3[0,1] = mu2_3\n",
    "\n",
    "mu = np.ones([3,2])\n",
    "mu[0,:] = mu1\n",
    "mu[1,:] = mu2\n",
    "mu[2,:] = mu3\n",
    "\n",
    "print('Empirical means: \\n', mu)\n",
    "\n",
    "# cov\n",
    "x_train = np.ones([n,2])\n",
    "x_train[:,0] = x1_train\n",
    "x_train[:,1] = x2_train\n",
    "sigma = np.zeros([2,2])\n",
    "for i in range (len(x_train)):\n",
    "    if y_train[i] == 1:\n",
    "        current_m = mu1\n",
    "    elif y_train[i] == 2:\n",
    "        current_m = mu2\n",
    "    elif y_train[i] == 3:\n",
    "        current_m = mu3\n",
    "    b = x_train[i,:] - current_m\n",
    "    b_t = np.transpose(b)\n",
    "    sigma += b_t @ b\n",
    "\n",
    "cov = sigma/n\n",
    "print('Covariance matrix: \\n', cov)"
   ]
  },
  {
   "cell_type": "markdown",
   "metadata": {},
   "source": [
    "d) Since we know ($\\widehat{\\boldsymbol{\\mu}}_y \\text{ } \\forall \\text{ } y$,$\\widehat{\\Sigma}$,$\\widehat{p}(y)$), we can in turn obtain the LDA decision rule. Let:\n",
    "\n",
    "$\\boldsymbol{\\beta}_y = \\Sigma^{-1} \\boldsymbol{\\mu}_y $,\n",
    "\n",
    "$\\alpha_y = - \\frac{1}{2} \\boldsymbol{\\mu}_y^T \\Sigma^{-1} \\boldsymbol{\\mu}_y + \\text{log}(p(y))$;\n",
    "\n",
    "with this, the LDA decision rule can be re-expressed as:\n",
    "\n",
    "$h_{LDA} (\\boldsymbol{x}) = \\text{argmax}_y \\text{ } \\boldsymbol{\\beta}_y^T \\boldsymbol{x} + \\alpha_y$.  \n",
    "\n",
    "The objective function in the preceding equation basically projects $\\boldsymbol{x}$ into $1$ dimension and offsets it.  \n",
    "\n",
    "Obtain and display the values of $\\boldsymbol{\\beta}_y \\forall y$ and $\\alpha_y \\forall y$ using print statements."
   ]
  },
  {
   "cell_type": "code",
   "execution_count": 352,
   "metadata": {},
   "outputs": [
    {
     "name": "stdout",
     "output_type": "stream",
     "text": [
      "Beta: \n",
      " [[  4.05075452   3.943258  ]\n",
      " [-14.09226949 -13.3200805 ]\n",
      " [-16.62483323  -1.19477874]]\n",
      "Alpha: \n",
      " [[ -9.24867781]\n",
      " [-96.89362851]\n",
      " [-67.97626208]]\n"
     ]
    }
   ],
   "source": [
    "# Write code here:\n",
    "import math\n",
    "# Beta\n",
    "beta1 = np.linalg.inv(cov) @ np.transpose(mu1)\n",
    "beta2 = np.linalg.inv(cov) @ np.transpose(mu2)\n",
    "beta3 = np.linalg.inv(cov) @ np.transpose(mu3)\n",
    "beta = np.zeros([3,2])\n",
    "beta[0,:] = np.transpose(beta1)\n",
    "beta[1,:] = np.transpose(beta2)\n",
    "beta[2,:] = np.transpose(beta3)\n",
    "\n",
    "print('Beta: \\n', beta)\n",
    "\n",
    "# Alpha\n",
    "alpha1 = -0.5 * mu1 @ np.linalg.inv(cov) @ np.transpose(mu1) + math.log(p[0])\n",
    "alpha2 = -0.5 * mu2 @ np.linalg.inv(cov) @ np.transpose(mu2) + math.log(p[1])\n",
    "alpha3 = -0.5 * mu3 @ np.linalg.inv(cov) @ np.transpose(mu3) + math.log(p[2])\n",
    "alpha = np.zeros([3,1])\n",
    "alpha[0,0] = alpha1\n",
    "alpha[1,0] = alpha2\n",
    "alpha[2,0] = alpha3\n",
    "\n",
    "print('Alpha: \\n', alpha)"
   ]
  },
  {
   "cell_type": "markdown",
   "metadata": {},
   "source": [
    "e) Using the derived LDA decision rule, obtain and display the Correct Classification Rates (CCR) for the training and testing sets. Also, explain the resulting CCRs."
   ]
  },
  {
   "cell_type": "code",
   "execution_count": 353,
   "metadata": {},
   "outputs": [
    {
     "name": "stdout",
     "output_type": "stream",
     "text": [
      "LDA Train CCR -  1.0\n",
      "LDA Test CCR -  1.0\n"
     ]
    }
   ],
   "source": [
    "# Write code here:\n",
    "# Train\n",
    "correct_train = 0\n",
    "n_train = len(x_train)\n",
    "y_label_train = 0\n",
    "\n",
    "for i in range (n_train):\n",
    "    h1 = np.transpose(beta1) @ x_train[i,:] + alpha[0,0]\n",
    "    h2 = np.transpose(beta2) @ x_train[i,:] + alpha[1,0]\n",
    "    h3 = np.transpose(beta3) @ x_train[i,:] + alpha[2,0]\n",
    "    \n",
    "    if h1 > h2 and h1 > h3:\n",
    "        y_label_train = 1\n",
    "    elif h2 > h1 and h2 > h3:\n",
    "        y_label_train = 2\n",
    "    elif h3 > h1 and h3 > h2:\n",
    "        y_label_train = 3\n",
    "    if y_train[i] == y_label_train:\n",
    "        correct_train += 1\n",
    "\n",
    "ccr_train = correct_train/n_train\n",
    "print('LDA Train CCR - ', ccr_train)\n",
    "\n",
    "\n",
    "# Test\n",
    "n_test = len(x1_test)\n",
    "x_test = np.ones([n_test,2])\n",
    "x_test[:,0] = x1_test\n",
    "x_test[:,1] = x2_test\n",
    "correct_test = 0\n",
    "y_label_test = 0\n",
    "\n",
    "for i in range (n_test):\n",
    "    h1 = np.transpose(beta1) @ x_test[i,:] + alpha[0,0]\n",
    "    h2 = np.transpose(beta2) @ x_test[i,:] + alpha[1,0]\n",
    "    h3 = np.transpose(beta3) @ x_test[i,:] + alpha[2,0]\n",
    "    \n",
    "    if h1 > h2 and h1 > h3:\n",
    "        y_label_test = 1\n",
    "    elif h2 > h1 and h2 > h3:\n",
    "        y_label_test = 2\n",
    "    elif h3 > h1 and h3 > h2:\n",
    "        y_label_test = 3\n",
    "    if y_test[i] == y_label_test:\n",
    "        correct_test += 1\n",
    "\n",
    "ccr_test = correct_test/n_test\n",
    "print('LDA Test CCR - ', ccr_test)\n"
   ]
  },
  {
   "cell_type": "markdown",
   "metadata": {},
   "source": [
    "Explanation of results:\n",
    "\n",
    "Both the training and test CCRs are 100% correct, meaning that every predicted label matched the actual label. Since the model was trainined correctly following the steps outlined in the instructions, both CCRs turned to be 1.0"
   ]
  },
  {
   "cell_type": "markdown",
   "metadata": {},
   "source": [
    "f) Here, we will test our LDA classifier on $5$ new data points:\n",
    "    \n",
    "$\\boldsymbol{x}_1 = [10,10]^T,\\boldsymbol{x}_2 = [-10,10]^T,\\boldsymbol{x}_3 = [-10,-10]^T,\\boldsymbol{x}_4 = [10,-10]^T,\\boldsymbol{x}_5 = [0,0]^T$\n",
    "\n",
    "Plot these new test points along with the original Gaussian data on a new figure. For each new test point, compute the score of the test point belonging to class $y \\text{ } \\forall \\text{ } y \\in \\{1,...,m \\}$ as:  $\\text{score}_y = \\boldsymbol{\\beta}_y^T \\boldsymbol{x} + \\alpha_y$ and display the scores using print statements.  \n",
    "\n",
    "Describe the resulting scores and rationalize why they make sense based on proximity of a new test point to a certain data cluster.   "
   ]
  },
  {
   "cell_type": "code",
   "execution_count": 354,
   "metadata": {},
   "outputs": [
    {
     "name": "stdout",
     "output_type": "stream",
     "text": [
      "New points: \n",
      " [[ 10.  10.]\n",
      " [-10.  10.]\n",
      " [-10. -10.]\n",
      " [ 10. -10.]\n",
      " [  0.   0.]]\n",
      "Blue - 1   Green - 2    Red - 3\n",
      "Scores: \n",
      " [[  70.69144744 -371.01712841 -246.17238179]\n",
      " [ -10.32364301  -89.17173859   86.32428274]\n",
      " [ -89.18880306  177.22987138  110.21985763]\n",
      " [  -8.1737126  -104.61551843 -222.2768069 ]\n",
      " [  -9.24867781  -96.89362851  -67.97626208]]\n"
     ]
    },
    {
     "data": {
      "image/png": "[encoded data removed]",
      "text/plain": [
       "<matplotlib.figure.Figure at 0x1a1eb68630>"
      ]
     },
     "metadata": {},
     "output_type": "display_data"
    }
   ],
   "source": [
    "# Write code here:\n",
    "x_new = np.zeros([5,2])\n",
    "x_new[0,:] = [10,10]\n",
    "x_new[1,:] = [-10,10]\n",
    "x_new[2,:] = [-10,-10]\n",
    "x_new[3,:] = [10,-10]\n",
    "x_new[4,:] = [0,0]\n",
    "\n",
    "plt.plot(x_new[:,0], x_new[:,1], '*', color='purple')\n",
    "plt.plot(x1, y1, 'x', color='blue')\n",
    "plt.plot(x2, y2, 'x', color='green')\n",
    "plt.plot(x3, y3, 'x', color='red')\n",
    "plt.grid(axis='both')\n",
    "plt.show\n",
    "\n",
    "n_new = len(x_new)\n",
    "scores = np.zeros([5,3])\n",
    "\n",
    "for i in range (n_new):\n",
    "    scores[i,0] = np.transpose(beta1) @ x_new[i,:] + alpha[0,0]\n",
    "    scores[i,1] = np.transpose(beta2) @ x_new[i,:] + alpha[1,0]\n",
    "    scores[i,2] = np.transpose(beta3) @ x_new[i,:] + alpha[2,0]\n",
    "        \n",
    "print('New points: \\n', x_new)\n",
    "print('Blue - 1   Green - 2    Red - 3')\n",
    "print('Scores: \\n', scores)\n",
    "\n"
   ]
  },
  {
   "cell_type": "markdown",
   "metadata": {},
   "source": [
    "Explanation of results:\n",
    "\n",
    "The results make sense once you look at the 5 new points next to all the other gaussian points. The score array is showing all the h_lda values for all three classes, where the maximum value tells you what class that point belongs to.\n",
    "Just by looking at the graph one can tell that points [10,10], [10,-10] and [0,0] are closest to the blue points. Paying attention to the score outputs you can see that the maximum value for these points corresponds to that of h1 which is the h_lda of the blue points.\n",
    "The same holds true for the red and green points as it can be seen for [-10,10] which is closets to the red points and [-10,-10] which is next to the green ones."
   ]
  },
  {
   "cell_type": "markdown",
   "metadata": {},
   "source": [
    "**3) Logistic Regression**"
   ]
  },
  {
   "cell_type": "markdown",
   "metadata": {},
   "source": [
    "In this problem, we will implement Logistic Regression using the built in capability (from sklearn).\n",
    "\n",
    "Form a Logistic Regression classifer using the training data from Q$2$ and apply it to the training and testing sets from Q$2$. Obtain the CCRs for the training and testing sets; also, explain the resulting CCRs. "
   ]
  },
  {
   "cell_type": "code",
   "execution_count": 355,
   "metadata": {},
   "outputs": [
    {
     "name": "stdout",
     "output_type": "stream",
     "text": [
      "LR - Train CCR:  1.0\n",
      "LR - Test CCR:  1.0\n"
     ]
    }
   ],
   "source": [
    "from sklearn.linear_model import LogisticRegression\n",
    "\n",
    "# Write code here:\n",
    "clf = LogisticRegression(random_state=0, solver='lbfgs', multi_class='multinomial').fit(x_train, y_train)\n",
    "ccr_training = clf.score(x_train, y_train)\n",
    "ccr_test = clf.score(x_test, y_test)\n",
    "print('LR - Train CCR: ', ccr_training)\n",
    "print('LR - Test CCR: ', ccr_test)"
   ]
  },
  {
   "cell_type": "markdown",
   "metadata": {},
   "source": [
    "Explanation of results:\n",
    "\n",
    "The amazing thing about python is that you can just call a function from a class and it will do everything for you. This is exactly the case here, where you just need one line of code to fit your model to x_train and y_train. Once it has been fitted, if you want to look at the score of that model with respect to the same training data the CCR should be 1.0 (since it is using the same points for training and testing). For the other CCR, if the model was trained correctly using the x_train and y_train values then using x_test and y_test values should also yield a CCR of 1."
   ]
  },
  {
   "cell_type": "code",
   "execution_count": null,
   "metadata": {},
   "outputs": [],
   "source": []
  },
  {
   "cell_type": "code",
   "execution_count": null,
   "metadata": {},
   "outputs": [],
   "source": []
  }
 ],
 "metadata": {
  "kernelspec": {
   "display_name": "Python 3",
   "language": "python",
   "name": "python3"
  },
  "language_info": {
   "codemirror_mode": {
    "name": "ipython",
    "version": 3
   },
   "file_extension": ".py",
   "mimetype": "text/x-python",
   "name": "python",
   "nbconvert_exporter": "python",
   "pygments_lexer": "ipython3",
   "version": "3.6.4"
  }
 },
 "nbformat": 4,
 "nbformat_minor": 2
}
