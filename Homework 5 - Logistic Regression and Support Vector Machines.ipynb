{
 "cells": [
  {
   "cell_type": "markdown",
   "metadata": {},
   "source": [
    "# Homework 5: Logistic Regression and Support Vector Machines\n",
    "\n",
    "by Natalia Frumkin and Karanraj Chauhan with help from B. Kulis, R. Manzelli, and A. Tsiligkardis"
   ]
  },
  {
   "cell_type": "markdown",
   "metadata": {},
   "source": [
    "## Problem 1: SVM Toy Example\n",
    "\n",
    "Given the following two-class data set:\n",
    "\n",
    "**Class -1: **\n",
    "A = (1,1)\n",
    "B = (2,3)\n",
    "\n",
    "**Class +1: **\n",
    "C = (2,5)\n",
    "D = (4,2)\n",
    "\n",
    "<ol type=\"a\">\n",
    "  <li>Plot the data.</li>\n",
    "  <li>Plot the hyperplane described by w = $(3,2)^T, b = -12$</li>\n",
    "  <li>Calculate the $l_2$ distance of data point C from the hyperplane.</li>\n",
    "  <li>Determine if the hyperplane linearly separates the data. Explain.</li>\n",
    "  <li>Calculate the hard margin SVM hyperplane in canonical form.</li>\n",
    "  <li>Which, if any, data points lie on the SVM hyperplane?</li>\n",
    "</ol>"
   ]
  },
  {
   "cell_type": "code",
   "execution_count": 4,
   "metadata": {},
   "outputs": [
    {
     "data": {
      "text/plain": [
       "<function matplotlib.pyplot.show>"
      ]
     },
     "execution_count": 4,
     "metadata": {},
     "output_type": "execute_result"
    },
    {
     "data": {
      "image/png": "[encoded data removed]",
      "text/plain": [
       "<matplotlib.figure.Figure at 0x1136f8f98>"
      ]
     },
     "metadata": {},
     "output_type": "display_data"
    }
   ],
   "source": [
    "import numpy as np\n",
    "import matplotlib.pyplot as plt\n",
    "\n",
    "# plot the data\n",
    "A = [1,1]\n",
    "B = [2,3]\n",
    "C = [2,5]\n",
    "D = [4,2]\n",
    "\n",
    "plt.plot(A[0], A[1], 'x', color='blue')\n",
    "plt.plot(B[0], B[1], 'x', color='blue')\n",
    "plt.plot(C[0], C[1], 'o', color='red')\n",
    "plt.plot(D[0], D[1], 'o', color='red')\n",
    "plt.show\n",
    "\n",
    "# plot the hyperplane\n"
   ]
  },
  {
   "cell_type": "markdown",
   "metadata": {},
   "source": [
    "## Problem 2: Logistic Regression"
   ]
  },
  {
   "cell_type": "markdown",
   "metadata": {},
   "source": [
    "<p>In this problem, we will use a logistic regression model to classify emails as \"spam\" (1) or \"non-spam\" (0). Recall that the hypothesis/decision rule in a logistic regression model is given by</p>\n",
    "\n",
    "$$h_\\theta(x) = \\sigma(\\theta^Tx) \\\\ \\text{where } \\sigma  \\text{ is the sigmoid function}$$\n",
    "\n",
    "<p>Since logistic regression does not have a closed form solution, we will use gradient descent to obtain the parameters $\\theta$. We will use the negative log likelihood loss with L2 regularization as the loss function. Mathematically, the loss function $l(\\theta)$ for a given set of parameters $\\theta$ will be,</p>\n",
    "\n",
    "$$l(\\theta) = NLL(\\theta) + \\frac{\\lambda}{2}||\\theta||^2 \\\\ \\text{where } NLL(\\theta) = -\\sum_{i=1}^{n} y_i\\log(h(x_i)) + (1 - y_i)\\log(1 - h(x_i))$$\n",
    "\n",
    "<p>The good news is, you won't have to worry about these equations for implementing gradient descent (hurray!). However, what you will need is the gradient or the derivative of the loss function. For a given $n$$ x $$d$ matrix $X$ of data, $n$ x $1$ vector of labels (0/1) $y$, and corresponding $n$ x $1$ vector of predictions $\\hat{y}$, the loss function gradient is</p>\n",
    "\n",
    "$$\\nabla l(\\theta) = (\\hat{y} - y)^{T} \\cdot X + \\lambda \\cdot \\theta$$\n",
    "\n",
    "<ol type=\"a\">\n",
    "    <li>Load the dataset file spambase_data.csv using pandas. The last column in the data is the true labels column i.e. the $y$ vector (1 means spam, 0 means not spam), and the rest of the data is the features matrix i.e. the $X$ matrix. Split the dataset into a train set and a test set. Note: train/test ratio of 0.8/0.2 has been known to work, but you are welcome to try other values.</li>\n",
    "    <li>Using the loss gradient equation above, implement gradient descent (use only the train set for this) to find the parameters $\\theta$ of the logistic regression model. Note: $learning$ $rate = 0.00001$, $\\lambda$ = $10$, and $number$ $of$ $steps = 3000$ have been known to give a decent accuracy but you are welcome to try other values, especially for $number$ $of$ $steps$.</li>\n",
    "    <li>Report the correct classification rate (CCR) of the model on train data and test data. The CCR is defined as $$CCR = \\frac{num\\_correct\\_predictions}{num\\_samples}$$</li>   \n",
    "</ol>"
   ]
  },
  {
   "cell_type": "code",
   "execution_count": 1,
   "metadata": {},
   "outputs": [],
   "source": [
    "import numpy as np\n",
    "import pandas as pd"
   ]
  },
  {
   "cell_type": "code",
   "execution_count": 2,
   "metadata": {},
   "outputs": [],
   "source": [
    "from sklearn.model_selection import train_test_split\n",
    "\n",
    "# read in raw dataset\n",
    "spambase_data = pd.read_csv(\"spambase_data.csv\")\n",
    "spambase_data.head()\n",
    "\n",
    "data = spambase_data.values\n",
    "\n",
    "X = data[:,0:56]\n",
    "y_label = data[:,57]\n",
    "\n",
    "# split into train and test sets\n",
    "x_train, x_test, y_train, y_test = train_test_split(X, y_label, test_size=0.2)\n"
   ]
  },
  {
   "cell_type": "code",
   "execution_count": 3,
   "metadata": {},
   "outputs": [
    {
     "name": "stderr",
     "output_type": "stream",
     "text": [
      "/anaconda3/lib/python3.6/site-packages/ipykernel_launcher.py:10: RuntimeWarning: overflow encountered in exp\n",
      "  # Remove the CWD from sys.path while we load stuff.\n"
     ]
    }
   ],
   "source": [
    "# fit logistic regression model\n",
    "\n",
    "# get the h_theta(x) array of predictions\n",
    "def h_theta(x, theta):\n",
    "    y_hat = np.zeros([3680,1]) # size of x_train is 3680\n",
    "    for i in range (x.shape[0]):\n",
    "        x_i = np.zeros([1,56])\n",
    "        x_i = x[i,:]\n",
    "        argument = np.transpose(theta) @ x_i\n",
    "        result = 1/(1+np.exp(-argument))\n",
    "        if (result > 0.5):\n",
    "            y_hat[i,0] = 1\n",
    "        elif (result < 0.5):\n",
    "            y_hat[i,0] = 0\n",
    "        \n",
    "    return y_hat\n",
    "\n",
    "e = 0.00001\n",
    "l = 10\n",
    "steps = 3000\n",
    "theta = np.ones([56,1]) #initial theta\n",
    "\n",
    "# update theta\n",
    "y_hat = np.zeros([56,1])\n",
    "for i in range (steps):\n",
    "    y_hat = h_theta(x_train, theta)\n",
    "    gradient = (np.transpose(y_hat) - y_train) @ x_train + l * np.transpose(theta)\n",
    "    theta = theta - np.transpose(gradient) * e\n",
    "    "
   ]
  },
  {
   "cell_type": "code",
   "execution_count": 4,
   "metadata": {},
   "outputs": [
    {
     "name": "stdout",
     "output_type": "stream",
     "text": [
      "Test ccr =  0.7122282608695653\n",
      "Train ccr =  0.7263843648208469\n"
     ]
    }
   ],
   "source": [
    "# predict on test data and train data and calculate CCR\n",
    "y_predictions_train = h_theta(x_train, theta)\n",
    "size_train = y_predictions_train.shape[0]\n",
    "correct = 0\n",
    "\n",
    "for i in range (size_train):\n",
    "    if (y_predictions_train[i] == y_train[i]):\n",
    "        correct = correct + 1\n",
    "        \n",
    "y_predictions_test = h_theta(x_test, theta)\n",
    "size_test = y_test.shape[0]\n",
    "correct_test = 0\n",
    "\n",
    "for i in range (size_test):\n",
    "    if (y_predictions_test[i] == y_test[i]):\n",
    "        correct_test = correct_test + 1\n",
    "\n",
    "print('Test ccr = ', correct/size_train)\n",
    "print('Train ccr = ', correct_test/size_test)"
   ]
  },
  {
   "cell_type": "code",
   "execution_count": null,
   "metadata": {},
   "outputs": [],
   "source": []
  },
  {
   "cell_type": "code",
   "execution_count": null,
   "metadata": {},
   "outputs": [],
   "source": []
  }
 ],
 "metadata": {
  "kernelspec": {
   "display_name": "Python 3",
   "language": "python",
   "name": "python3"
  },
  "language_info": {
   "codemirror_mode": {
    "name": "ipython",
    "version": 3
   },
   "file_extension": ".py",
   "mimetype": "text/x-python",
   "name": "python",
   "nbconvert_exporter": "python",
   "pygments_lexer": "ipython3",
   "version": "3.6.4"
  }
 },
 "nbformat": 4,
 "nbformat_minor": 2
}
